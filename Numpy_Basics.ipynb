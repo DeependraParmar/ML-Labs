{
  "nbformat": 4,
  "nbformat_minor": 0,
  "metadata": {
    "colab": {
      "provenance": [],
      "authorship_tag": "ABX9TyNU0i6MNeNBPsX3adH7J4tx",
      "include_colab_link": true
    },
    "kernelspec": {
      "name": "python3",
      "display_name": "Python 3"
    },
    "language_info": {
      "name": "python"
    }
  },
  "cells": [
    {
      "cell_type": "markdown",
      "metadata": {
        "id": "view-in-github",
        "colab_type": "text"
      },
      "source": [
        "<a href=\"https://colab.research.google.com/github/DeependraParmar/ML-Labs/blob/master/Numpy_Basics.ipynb\" target=\"_parent\"><img src=\"https://colab.research.google.com/assets/colab-badge.svg\" alt=\"Open In Colab\"/></a>"
      ]
    },
    {
      "cell_type": "code",
      "execution_count": 1,
      "metadata": {
        "id": "B0f03lJm2fhn"
      },
      "outputs": [],
      "source": [
        "import numpy as np"
      ]
    },
    {
      "cell_type": "markdown",
      "source": [
        "Creating a numpy array from python list."
      ],
      "metadata": {
        "id": "6pqv_Aza3F7n"
      }
    },
    {
      "cell_type": "code",
      "source": [
        "l = [1,2,3,4,5,6,7,8]\n",
        "arr = np.array(l)\n",
        "print(\"List: \", l)\n",
        "print(\"Array: \",arr)\n",
        "print()\n",
        "print(type(arr))"
      ],
      "metadata": {
        "colab": {
          "base_uri": "https://localhost:8080/"
        },
        "id": "wjFrXMTP2yEh",
        "outputId": "0a83f7f1-d779-4faf-f074-6fe3fe9c52cb"
      },
      "execution_count": 4,
      "outputs": [
        {
          "output_type": "stream",
          "name": "stdout",
          "text": [
            "List:  [1, 2, 3, 4, 5, 6, 7, 8]\n",
            "Array:  [1 2 3 4 5 6 7 8]\n",
            "\n",
            "<class 'numpy.ndarray'>\n"
          ]
        }
      ]
    },
    {
      "cell_type": "markdown",
      "source": [
        "Having just few string elements in the python list, the numpy ndarray converts the whole list in the form of a string and didn't gave any error"
      ],
      "metadata": {
        "id": "WU7ZPVWR3QnI"
      }
    },
    {
      "cell_type": "code",
      "source": [
        "ls = [1,4,\"String\", 1.304903,\"float\"]\n",
        "arr = np.array(ls)\n",
        "print(\"List: \", ls)\n",
        "print(\"Array: \", arr)"
      ],
      "metadata": {
        "colab": {
          "base_uri": "https://localhost:8080/"
        },
        "id": "-ea4z5Ho2_CX",
        "outputId": "8bc6fff6-a4bf-4508-e384-c1f8771db263"
      },
      "execution_count": 5,
      "outputs": [
        {
          "output_type": "stream",
          "name": "stdout",
          "text": [
            "List:  [1, 4, 'String', 1.304903, 'float']\n",
            "Array:  ['1' '4' 'String' '1.304903' 'float']\n"
          ]
        }
      ]
    },
    {
      "cell_type": "code",
      "source": [
        "# performing addition in numpy arrays: either both should be of equal size otherwise\n",
        "# there should be just one element in one of the array in order to perform broadcasting.\n",
        "\n",
        "a = np.array([1,2,4,5,6])\n",
        "b = np.array([23,39,29,59,2])\n",
        "c = np.array([10])\n",
        "\n",
        "print(\"Sum of a and b is: \", a+b)\n",
        "print(\"Sum of a and c is: \", a+c)"
      ],
      "metadata": {
        "colab": {
          "base_uri": "https://localhost:8080/"
        },
        "id": "Ff78I2Rm3xd3",
        "outputId": "be2859a9-5459-476a-bd2c-b84ea3170c1d"
      },
      "execution_count": 13,
      "outputs": [
        {
          "output_type": "stream",
          "name": "stdout",
          "text": [
            "Sum of a and b is:  [24 41 33 64  8]\n",
            "Sum of a and c is:  [11 12 14 15 16]\n"
          ]
        }
      ]
    },
    {
      "cell_type": "code",
      "source": [
        "# performing dot product of two arrays\n",
        "\n",
        "arr1 = np.array([1,2,3,4,5])\n",
        "arr2 = np.array([9,1,59,39,4])\n",
        "\n",
        "print(\"Dot Product of arr1 and arr2 is: \", np.dot(arr1,arr2))"
      ],
      "metadata": {
        "colab": {
          "base_uri": "https://localhost:8080/"
        },
        "id": "kqyTzVOo4ytZ",
        "outputId": "f394ac24-43e7-4473-a19f-901aef00b168"
      },
      "execution_count": 14,
      "outputs": [
        {
          "output_type": "stream",
          "name": "stdout",
          "text": [
            "Dot Product of arr1 and arr2 is:  364\n"
          ]
        }
      ]
    },
    {
      "cell_type": "code",
      "source": [
        "# Performance Determination of arrays and python by memory usage\n",
        "import sys\n",
        "l = [1,2,3,4,5,6]\n",
        "a = np.array(l)\n",
        "\n",
        "print(\"Memory Usage for list is: \", sys.getsizeof(l))\n",
        "print(\"Memory Usage for array is: \", a.nbytes)"
      ],
      "metadata": {
        "colab": {
          "base_uri": "https://localhost:8080/"
        },
        "id": "EsFJa78v5qOg",
        "outputId": "d9b19ae7-a073-4b28-a3e3-5b0acbd699dd"
      },
      "execution_count": 19,
      "outputs": [
        {
          "output_type": "stream",
          "name": "stdout",
          "text": [
            "Memory Usage for list is:  104\n",
            "Memory Usage for array is:  48\n"
          ]
        }
      ]
    },
    {
      "cell_type": "code",
      "source": [],
      "metadata": {
        "id": "u6Ozos6H6ZB5"
      },
      "execution_count": null,
      "outputs": []
    }
  ]
}