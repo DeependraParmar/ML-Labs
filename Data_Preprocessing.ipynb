{
  "nbformat": 4,
  "nbformat_minor": 0,
  "metadata": {
    "colab": {
      "provenance": [],
      "authorship_tag": "ABX9TyNiK4soz/B9sIHlrWI8KR2h",
      "include_colab_link": true
    },
    "kernelspec": {
      "name": "python3",
      "display_name": "Python 3"
    },
    "language_info": {
      "name": "python"
    }
  },
  "cells": [
    {
      "cell_type": "markdown",
      "metadata": {
        "id": "view-in-github",
        "colab_type": "text"
      },
      "source": [
        "<a href=\"https://colab.research.google.com/github/DeependraParmar/ML-Labs/blob/master/Data_Preprocessing.ipynb\" target=\"_parent\"><img src=\"https://colab.research.google.com/assets/colab-badge.svg\" alt=\"Open In Colab\"/></a>"
      ]
    },
    {
      "cell_type": "code",
      "execution_count": 1,
      "metadata": {
        "id": "PR6VlakNmPQW"
      },
      "outputs": [],
      "source": [
        "import numpy as np\n",
        "import pandas as pd"
      ]
    },
    {
      "cell_type": "code",
      "source": [
        "dataset = pd.read_csv(\"/content/sample_data/data.csv\")"
      ],
      "metadata": {
        "id": "RCuOrLfloz6k"
      },
      "execution_count": 2,
      "outputs": []
    },
    {
      "cell_type": "code",
      "source": [
        "X = dataset.iloc[:,:-1].values\n",
        "Y = dataset.iloc[:,3].values"
      ],
      "metadata": {
        "id": "wepcL4RRpcsQ"
      },
      "execution_count": 3,
      "outputs": []
    },
    {
      "cell_type": "code",
      "source": [
        "from sklearn.impute import SimpleImputer\n",
        "imputer = SimpleImputer(missing_values = np.nan, strategy=\"mean\")\n",
        "imputer = imputer.fit(X[:,1:3])\n",
        "X[:, 1:3] = imputer.transform(X[:, 1:3])"
      ],
      "metadata": {
        "id": "W-XHlLUuqOaB"
      },
      "execution_count": 4,
      "outputs": []
    },
    {
      "cell_type": "code",
      "source": [
        "from sklearn.preprocessing import LabelEncoder, OneHotEncoder\n",
        "labelencoder_X = LabelEncoder()\n",
        "X[:, 0] = labelencoder_X.fit_transform(X[:,0])"
      ],
      "metadata": {
        "id": "blqUukZXr1eF"
      },
      "execution_count": 5,
      "outputs": []
    },
    {
      "cell_type": "code",
      "source": [
        "from sklearn.preprocessing import OneHotEncoder, LabelEncoder\n",
        "\n",
        "# One-Hot Encoding for Feature Matrix (X)\n",
        "onehotencoder = OneHotEncoder(categories='auto', sparse_output=False, drop='first')\n",
        "X = onehotencoder.fit_transform(X)\n",
        "\n",
        "\n",
        "\n",
        "labelencoder_Y = LabelEncoder()\n",
        "Y =  labelencoder_Y.fit_transform(Y)"
      ],
      "metadata": {
        "id": "yLDJI247sSlK"
      },
      "execution_count": 8,
      "outputs": []
    },
    {
      "cell_type": "code",
      "source": [
        "from sklearn.model_selection import train_test_split\n",
        "\n",
        "X_train, X_test, Y_train, Y_test = train_test_split( X , Y , test_size = 0.2, random_state = 0)"
      ],
      "metadata": {
        "id": "8-SV3CQPwIn6"
      },
      "execution_count": 9,
      "outputs": []
    },
    {
      "cell_type": "code",
      "source": [
        "from sklearn.preprocessing import StandardScaler\n",
        "sc_X = StandardScaler()\n",
        "X_train = sc_X.fit_transform(X_train)\n",
        "X_test = sc_X.fit_transform(X_test)"
      ],
      "metadata": {
        "id": "GkbafRaKvS12"
      },
      "execution_count": 10,
      "outputs": []
    },
    {
      "cell_type": "code",
      "source": [
        "X_train"
      ],
      "metadata": {
        "colab": {
          "base_uri": "https://localhost:8080/"
        },
        "id": "5dJSZyRQvWov",
        "outputId": "58bf28d6-acfe-453f-bf5b-c7758a2bd74e"
      },
      "execution_count": 11,
      "outputs": [
        {
          "output_type": "execute_result",
          "data": {
            "text/plain": [
              "array([[ 2.64575131, -0.77459667,  0.        , -0.37796447, -0.37796447,\n",
              "        -0.37796447, -0.37796447,  2.64575131, -0.37796447, -0.37796447,\n",
              "         0.        , -0.37796447,  0.        , -0.37796447, -0.37796447,\n",
              "         2.64575131, -0.37796447, -0.37796447, -0.37796447,  0.        ],\n",
              "       [-0.37796447, -0.77459667,  0.        , -0.37796447,  2.64575131,\n",
              "        -0.37796447, -0.37796447, -0.37796447, -0.37796447, -0.37796447,\n",
              "         0.        , -0.37796447,  0.        , -0.37796447, -0.37796447,\n",
              "        -0.37796447,  2.64575131, -0.37796447, -0.37796447,  0.        ],\n",
              "       [-0.37796447,  1.29099445,  0.        , -0.37796447, -0.37796447,\n",
              "        -0.37796447, -0.37796447, -0.37796447, -0.37796447, -0.37796447,\n",
              "         0.        , -0.37796447,  0.        , -0.37796447, -0.37796447,\n",
              "        -0.37796447, -0.37796447, -0.37796447, -0.37796447,  0.        ],\n",
              "       [-0.37796447,  1.29099445,  0.        , -0.37796447, -0.37796447,\n",
              "        -0.37796447,  2.64575131, -0.37796447, -0.37796447, -0.37796447,\n",
              "         0.        ,  2.64575131,  0.        , -0.37796447, -0.37796447,\n",
              "        -0.37796447, -0.37796447, -0.37796447, -0.37796447,  0.        ],\n",
              "       [-0.37796447, -0.77459667,  0.        , -0.37796447, -0.37796447,\n",
              "        -0.37796447, -0.37796447, -0.37796447, -0.37796447,  2.64575131,\n",
              "         0.        , -0.37796447,  0.        , -0.37796447, -0.37796447,\n",
              "        -0.37796447, -0.37796447, -0.37796447,  2.64575131,  0.        ],\n",
              "       [-0.37796447,  1.29099445,  0.        , -0.37796447, -0.37796447,\n",
              "         2.64575131, -0.37796447, -0.37796447, -0.37796447, -0.37796447,\n",
              "         0.        , -0.37796447,  0.        , -0.37796447,  2.64575131,\n",
              "        -0.37796447, -0.37796447, -0.37796447, -0.37796447,  0.        ],\n",
              "       [-0.37796447, -0.77459667,  0.        , -0.37796447, -0.37796447,\n",
              "        -0.37796447, -0.37796447, -0.37796447,  2.64575131, -0.37796447,\n",
              "         0.        , -0.37796447,  0.        , -0.37796447, -0.37796447,\n",
              "        -0.37796447, -0.37796447,  2.64575131, -0.37796447,  0.        ],\n",
              "       [-0.37796447, -0.77459667,  0.        ,  2.64575131, -0.37796447,\n",
              "        -0.37796447, -0.37796447, -0.37796447, -0.37796447, -0.37796447,\n",
              "         0.        , -0.37796447,  0.        ,  2.64575131, -0.37796447,\n",
              "        -0.37796447, -0.37796447, -0.37796447, -0.37796447,  0.        ]])"
            ]
          },
          "metadata": {},
          "execution_count": 11
        }
      ]
    },
    {
      "cell_type": "code",
      "source": [
        "from sklearn.linear_model import LinearRegression\n",
        "regressor = LinearRegression()\n",
        "regressor = regressor.fit(X_train, Y_train)"
      ],
      "metadata": {
        "id": "UuonbXdowMKt"
      },
      "execution_count": 12,
      "outputs": []
    },
    {
      "cell_type": "code",
      "source": [
        "Y_pred = regressor.predict(X_test)"
      ],
      "metadata": {
        "id": "UfF5UcmywSSK"
      },
      "execution_count": 13,
      "outputs": []
    },
    {
      "cell_type": "code",
      "source": [
        "import pandas as pd\n",
        "\n",
        "# Assuming you have X_test and y_pred from your regression model\n",
        "# X_test should be a subset of your data that the model hasn't seen\n",
        "\n",
        "# Convert X_test and y_pred to pandas Series\n",
        "y_test_series = pd.Series(Y_test, name='Y_test')\n",
        "y_pred_series =  pd.Series(Y_pred, name='Y_pred')\n",
        "\n",
        "# Create a DataFrame by concatenating the two Series\n",
        "result_df = pd.concat([y_test_series, y_pred_series])\n",
        "\n",
        "# Print the result\n",
        "print(result_df)"
      ],
      "metadata": {
        "colab": {
          "base_uri": "https://localhost:8080/"
        },
        "id": "oJHq8l0gwW0X",
        "outputId": "724b9840-6c65-4f9b-8bb8-b7e031cadac8"
      },
      "execution_count": 14,
      "outputs": [
        {
          "output_type": "stream",
          "name": "stdout",
          "text": [
            "0    0.000\n",
            "1    0.000\n",
            "0    0.625\n",
            "1    0.625\n",
            "dtype: float64\n"
          ]
        }
      ]
    },
    {
      "cell_type": "code",
      "source": [],
      "metadata": {
        "id": "5yDrg8b9waFE"
      },
      "execution_count": null,
      "outputs": []
    }
  ]
}