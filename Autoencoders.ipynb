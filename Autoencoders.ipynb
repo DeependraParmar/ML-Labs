{
  "cells": [
    {
      "cell_type": "markdown",
      "metadata": {
        "id": "view-in-github",
        "colab_type": "text"
      },
      "source": [
        "<a href=\"https://colab.research.google.com/github/DeependraParmar/ML-Labs/blob/master/Autoencoders.ipynb\" target=\"_parent\"><img src=\"https://colab.research.google.com/assets/colab-badge.svg\" alt=\"Open In Colab\"/></a>"
      ]
    },
    {
      "cell_type": "code",
      "source": [
        "# AutoEncoders in Deep Learning"
      ],
      "metadata": {
        "id": "dYmqX33jTWEU"
      },
      "execution_count": null,
      "outputs": []
    },
    {
      "cell_type": "code",
      "execution_count": 2,
      "metadata": {
        "id": "WQl8TSiHSOCU"
      },
      "outputs": [],
      "source": [
        "from keras.layers import Input, Dense\n",
        "from keras.models import Model\n",
        "\n",
        "# this is the size of our encoded representations\n",
        "encoding_dim = 128  # 32 floats -> compression of factor 24.5, assuming the input is 784 floats\n",
        "\n",
        "# this is our input placeholder\n",
        "input_img = Input(shape=(784,))\n",
        "# \"encoded\" is the encoded representation of the input\n",
        "encoded = Dense(encoding_dim, activation='relu')(input_img)\n",
        "# \"decoded\" is the lossy reconstruction of the input\n",
        "decoded = Dense(784, activation='sigmoid')(encoded)\n",
        "\n",
        "# this model maps an input to its reconstruction\n",
        "autoencoder = Model(input_img, decoded)"
      ]
    },
    {
      "cell_type": "code",
      "execution_count": 3,
      "metadata": {
        "id": "Gq173u9YSTvU"
      },
      "outputs": [],
      "source": [
        "# this model maps an input to its encoded representation\n",
        "encoder = Model(input_img, encoded)"
      ]
    },
    {
      "cell_type": "code",
      "execution_count": 4,
      "metadata": {
        "id": "q3K4BB0VSbfD"
      },
      "outputs": [],
      "source": [
        "# create a placeholder for an encoded (32-dimensional) input\n",
        "encoded_input = Input(shape=(encoding_dim,))\n",
        "# retrieve the last layer of the autoencoder model\n",
        "decoder_layer = autoencoder.layers[-1]\n",
        "# create the decoder model\n",
        "decoder = Model(encoded_input, decoder_layer(encoded_input))"
      ]
    },
    {
      "cell_type": "code",
      "execution_count": 5,
      "metadata": {
        "id": "txJYhPm1SfLq"
      },
      "outputs": [],
      "source": [
        "autoencoder.compile(optimizer='RMSprop', loss='binary_crossentropy')"
      ]
    },
    {
      "cell_type": "code",
      "execution_count": 6,
      "metadata": {
        "id": "ox4PzfObSiQd",
        "colab": {
          "base_uri": "https://localhost:8080/"
        },
        "outputId": "9941ead1-1bc1-4eae-d8a3-f342b0865fca"
      },
      "outputs": [
        {
          "output_type": "stream",
          "name": "stdout",
          "text": [
            "Downloading data from https://storage.googleapis.com/tensorflow/tf-keras-datasets/mnist.npz\n",
            "11490434/11490434 [==============================] - 0s 0us/step\n"
          ]
        }
      ],
      "source": [
        "from keras.datasets import mnist\n",
        "import numpy as np\n",
        "(x_train, _), (x_test, _) = mnist.load_data()"
      ]
    },
    {
      "cell_type": "code",
      "execution_count": 7,
      "metadata": {
        "colab": {
          "base_uri": "https://localhost:8080/"
        },
        "id": "5riYiwmoSlDz",
        "outputId": "24547c56-b80f-4eb9-ab61-5ba35df25693"
      },
      "outputs": [
        {
          "output_type": "stream",
          "name": "stdout",
          "text": [
            "(60000, 784)\n",
            "(10000, 784)\n"
          ]
        }
      ],
      "source": [
        "x_train = x_train.astype('float32') / 255.\n",
        "x_test = x_test.astype('float32') / 255.\n",
        "x_train = x_train.reshape((len(x_train), np.prod(x_train.shape[1:])))\n",
        "x_test = x_test.reshape((len(x_test), np.prod(x_test.shape[1:])))\n",
        "print (x_train.shape)\n",
        "print (x_test.shape)"
      ]
    },
    {
      "cell_type": "code",
      "execution_count": 8,
      "metadata": {
        "colab": {
          "base_uri": "https://localhost:8080/"
        },
        "id": "zzkP2dNISsfq",
        "outputId": "5299d5ef-e244-494d-b686-0993750e8fde"
      },
      "outputs": [
        {
          "output_type": "stream",
          "name": "stdout",
          "text": [
            "Epoch 1/68\n",
            "235/235 [==============================] - 5s 18ms/step - loss: 0.2744 - val_loss: 0.2063\n",
            "Epoch 2/68\n",
            "235/235 [==============================] - 3s 15ms/step - loss: 0.1859 - val_loss: 0.1682\n",
            "Epoch 3/68\n",
            "235/235 [==============================] - 3s 15ms/step - loss: 0.1589 - val_loss: 0.1488\n",
            "Epoch 4/68\n",
            "235/235 [==============================] - 5s 20ms/step - loss: 0.1426 - val_loss: 0.1352\n",
            "Epoch 5/68\n",
            "235/235 [==============================] - 3s 14ms/step - loss: 0.1311 - val_loss: 0.1249\n",
            "Epoch 6/68\n",
            "235/235 [==============================] - 3s 14ms/step - loss: 0.1220 - val_loss: 0.1166\n",
            "Epoch 7/68\n",
            "235/235 [==============================] - 4s 19ms/step - loss: 0.1145 - val_loss: 0.1097\n",
            "Epoch 8/68\n",
            "235/235 [==============================] - 4s 16ms/step - loss: 0.1083 - val_loss: 0.1042\n",
            "Epoch 9/68\n",
            "235/235 [==============================] - 3s 13ms/step - loss: 0.1032 - val_loss: 0.0997\n",
            "Epoch 10/68\n",
            "235/235 [==============================] - 4s 15ms/step - loss: 0.0992 - val_loss: 0.0962\n",
            "Epoch 11/68\n",
            "235/235 [==============================] - 7s 28ms/step - loss: 0.0960 - val_loss: 0.0932\n",
            "Epoch 12/68\n",
            "235/235 [==============================] - 6s 26ms/step - loss: 0.0934 - val_loss: 0.0910\n",
            "Epoch 13/68\n",
            "235/235 [==============================] - 6s 28ms/step - loss: 0.0913 - val_loss: 0.0891\n",
            "Epoch 14/68\n",
            "235/235 [==============================] - 6s 27ms/step - loss: 0.0895 - val_loss: 0.0876\n",
            "Epoch 15/68\n",
            "235/235 [==============================] - 4s 19ms/step - loss: 0.0880 - val_loss: 0.0863\n",
            "Epoch 16/68\n",
            "235/235 [==============================] - 4s 15ms/step - loss: 0.0867 - val_loss: 0.0850\n",
            "Epoch 17/68\n",
            "235/235 [==============================] - 4s 16ms/step - loss: 0.0856 - val_loss: 0.0840\n",
            "Epoch 18/68\n",
            "235/235 [==============================] - 4s 16ms/step - loss: 0.0846 - val_loss: 0.0831\n",
            "Epoch 19/68\n",
            "235/235 [==============================] - 4s 16ms/step - loss: 0.0837 - val_loss: 0.0823\n",
            "Epoch 20/68\n",
            "235/235 [==============================] - 3s 14ms/step - loss: 0.0830 - val_loss: 0.0816\n",
            "Epoch 21/68\n",
            "235/235 [==============================] - 3s 14ms/step - loss: 0.0822 - val_loss: 0.0809\n",
            "Epoch 22/68\n",
            "235/235 [==============================] - 4s 18ms/step - loss: 0.0816 - val_loss: 0.0803\n",
            "Epoch 23/68\n",
            "235/235 [==============================] - 4s 16ms/step - loss: 0.0810 - val_loss: 0.0797\n",
            "Epoch 24/68\n",
            "235/235 [==============================] - 3s 14ms/step - loss: 0.0804 - val_loss: 0.0792\n",
            "Epoch 25/68\n",
            "235/235 [==============================] - 4s 18ms/step - loss: 0.0799 - val_loss: 0.0787\n",
            "Epoch 26/68\n",
            "235/235 [==============================] - 4s 17ms/step - loss: 0.0794 - val_loss: 0.0783\n",
            "Epoch 27/68\n",
            "235/235 [==============================] - 4s 15ms/step - loss: 0.0790 - val_loss: 0.0779\n",
            "Epoch 28/68\n",
            "235/235 [==============================] - 3s 14ms/step - loss: 0.0785 - val_loss: 0.0775\n",
            "Epoch 29/68\n",
            "235/235 [==============================] - 4s 19ms/step - loss: 0.0781 - val_loss: 0.0771\n",
            "Epoch 30/68\n",
            "235/235 [==============================] - 3s 14ms/step - loss: 0.0778 - val_loss: 0.0768\n",
            "Epoch 31/68\n",
            "235/235 [==============================] - 3s 14ms/step - loss: 0.0774 - val_loss: 0.0764\n",
            "Epoch 32/68\n",
            "235/235 [==============================] - 4s 17ms/step - loss: 0.0771 - val_loss: 0.0761\n",
            "Epoch 33/68\n",
            "235/235 [==============================] - 4s 15ms/step - loss: 0.0768 - val_loss: 0.0759\n",
            "Epoch 34/68\n",
            "235/235 [==============================] - 3s 15ms/step - loss: 0.0765 - val_loss: 0.0756\n",
            "Epoch 35/68\n",
            "235/235 [==============================] - 4s 15ms/step - loss: 0.0762 - val_loss: 0.0753\n",
            "Epoch 36/68\n",
            "235/235 [==============================] - 5s 20ms/step - loss: 0.0759 - val_loss: 0.0751\n",
            "Epoch 37/68\n",
            "235/235 [==============================] - 3s 14ms/step - loss: 0.0757 - val_loss: 0.0748\n",
            "Epoch 38/68\n",
            "235/235 [==============================] - 3s 14ms/step - loss: 0.0754 - val_loss: 0.0746\n",
            "Epoch 39/68\n",
            "235/235 [==============================] - 5s 20ms/step - loss: 0.0752 - val_loss: 0.0744\n",
            "Epoch 40/68\n",
            "235/235 [==============================] - 4s 15ms/step - loss: 0.0750 - val_loss: 0.0742\n",
            "Epoch 41/68\n",
            "235/235 [==============================] - 4s 15ms/step - loss: 0.0748 - val_loss: 0.0740\n",
            "Epoch 42/68\n",
            "235/235 [==============================] - 4s 17ms/step - loss: 0.0746 - val_loss: 0.0738\n",
            "Epoch 43/68\n",
            "235/235 [==============================] - 4s 16ms/step - loss: 0.0744 - val_loss: 0.0736\n",
            "Epoch 44/68\n",
            "235/235 [==============================] - 3s 13ms/step - loss: 0.0742 - val_loss: 0.0734\n",
            "Epoch 45/68\n",
            "235/235 [==============================] - 3s 14ms/step - loss: 0.0740 - val_loss: 0.0733\n",
            "Epoch 46/68\n",
            "235/235 [==============================] - 5s 19ms/step - loss: 0.0738 - val_loss: 0.0731\n",
            "Epoch 47/68\n",
            "235/235 [==============================] - 4s 15ms/step - loss: 0.0737 - val_loss: 0.0730\n",
            "Epoch 48/68\n",
            "235/235 [==============================] - 4s 15ms/step - loss: 0.0735 - val_loss: 0.0728\n",
            "Epoch 49/68\n",
            "235/235 [==============================] - 4s 18ms/step - loss: 0.0734 - val_loss: 0.0727\n",
            "Epoch 50/68\n",
            "235/235 [==============================] - 4s 15ms/step - loss: 0.0732 - val_loss: 0.0725\n",
            "Epoch 51/68\n",
            "235/235 [==============================] - 4s 16ms/step - loss: 0.0731 - val_loss: 0.0724\n",
            "Epoch 52/68\n",
            "235/235 [==============================] - 3s 15ms/step - loss: 0.0729 - val_loss: 0.0723\n",
            "Epoch 53/68\n",
            "235/235 [==============================] - 5s 20ms/step - loss: 0.0728 - val_loss: 0.0721\n",
            "Epoch 54/68\n",
            "235/235 [==============================] - 3s 15ms/step - loss: 0.0727 - val_loss: 0.0721\n",
            "Epoch 55/68\n",
            "235/235 [==============================] - 3s 14ms/step - loss: 0.0725 - val_loss: 0.0719\n",
            "Epoch 56/68\n",
            "235/235 [==============================] - 4s 19ms/step - loss: 0.0724 - val_loss: 0.0718\n",
            "Epoch 57/68\n",
            "235/235 [==============================] - 3s 14ms/step - loss: 0.0723 - val_loss: 0.0717\n",
            "Epoch 58/68\n",
            "235/235 [==============================] - 4s 15ms/step - loss: 0.0722 - val_loss: 0.0716\n",
            "Epoch 59/68\n",
            "235/235 [==============================] - 4s 16ms/step - loss: 0.0721 - val_loss: 0.0715\n",
            "Epoch 60/68\n",
            "235/235 [==============================] - 4s 17ms/step - loss: 0.0720 - val_loss: 0.0715\n",
            "Epoch 61/68\n",
            "235/235 [==============================] - 4s 16ms/step - loss: 0.0719 - val_loss: 0.0713\n",
            "Epoch 62/68\n",
            "235/235 [==============================] - 4s 18ms/step - loss: 0.0718 - val_loss: 0.0712\n",
            "Epoch 63/68\n",
            "235/235 [==============================] - 4s 18ms/step - loss: 0.0717 - val_loss: 0.0711\n",
            "Epoch 64/68\n",
            "235/235 [==============================] - 3s 15ms/step - loss: 0.0716 - val_loss: 0.0711\n",
            "Epoch 65/68\n",
            "235/235 [==============================] - 4s 18ms/step - loss: 0.0715 - val_loss: 0.0710\n",
            "Epoch 66/68\n",
            "235/235 [==============================] - 4s 19ms/step - loss: 0.0714 - val_loss: 0.0709\n",
            "Epoch 67/68\n",
            "235/235 [==============================] - 3s 15ms/step - loss: 0.0713 - val_loss: 0.0708\n",
            "Epoch 68/68\n",
            "235/235 [==============================] - 3s 14ms/step - loss: 0.0713 - val_loss: 0.0707\n"
          ]
        },
        {
          "output_type": "execute_result",
          "data": {
            "text/plain": [
              "<keras.src.callbacks.History at 0x7c536013f760>"
            ]
          },
          "metadata": {},
          "execution_count": 8
        }
      ],
      "source": [
        "autoencoder.fit(x_train, x_train,\n",
        "                epochs=68,\n",
        "                batch_size=256,\n",
        "                shuffle=True,\n",
        "                validation_data=(x_test, x_test))"
      ]
    },
    {
      "cell_type": "code",
      "execution_count": 9,
      "metadata": {
        "colab": {
          "base_uri": "https://localhost:8080/"
        },
        "id": "OUr7fRVwSwHY",
        "outputId": "a5c20ea5-0542-4558-e5ef-ba95c2e9df73"
      },
      "outputs": [
        {
          "output_type": "stream",
          "name": "stdout",
          "text": [
            "313/313 [==============================] - 1s 1ms/step\n",
            "313/313 [==============================] - 1s 2ms/step\n"
          ]
        }
      ],
      "source": [
        "# encode and decode some digits\n",
        "# note that we take them from the *test* set\n",
        "encoded_imgs = encoder.predict(x_test)\n",
        "decoded_imgs = decoder.predict(encoded_imgs)"
      ]
    },
    {
      "cell_type": "code",
      "execution_count": 10,
      "metadata": {
        "colab": {
          "base_uri": "https://localhost:8080/",
          "height": 304
        },
        "id": "HqkoJw8xSzH1",
        "outputId": "789ef71d-7140-4ef4-c8a8-2aaac6747caf"
      },
      "outputs": [
        {
          "output_type": "display_data",
          "data": {
            "text/plain": [
              "<Figure size 2000x400 with 20 Axes>"
            ],
            "image/png": "[encoded data removed]"
          },
          "metadata": {}
        }
      ],
      "source": [
        "# use Matplotlib (don't ask)\n",
        "import matplotlib.pyplot as plt\n",
        "\n",
        "n = 10  # how many digits we will display\n",
        "plt.figure(figsize=(20, 4))\n",
        "for i in range(n):\n",
        "    # display original\n",
        "    ax = plt.subplot(2, n, i + 1)\n",
        "    plt.imshow(x_test[i].reshape(28, 28))\n",
        "    plt.gray()\n",
        "    ax.get_xaxis().set_visible(False)\n",
        "    ax.get_yaxis().set_visible(False)\n",
        "\n",
        "    # display reconstruction\n",
        "    ax = plt.subplot(2, n, i + 1 + n)\n",
        "    plt.imshow(decoded_imgs[i].reshape(28, 28))\n",
        "    plt.gray()\n",
        "    ax.get_xaxis().set_visible(False)\n",
        "    ax.get_yaxis().set_visible(False)\n",
        "plt.show()"
      ]
    },
    {
      "cell_type": "code",
      "execution_count": 11,
      "metadata": {
        "id": "ODd0yFC1bl7l"
      },
      "outputs": [],
      "source": [
        "from keras.layers import Input, Dense\n",
        "from keras.models import Model\n",
        "\n",
        "# Define the size of the encoded representation\n",
        "encoding_dim = 32  # 32 floats -> compression of factor 24.5, assuming the input is 784 floats\n",
        "\n",
        "# Input placeholder\n",
        "input_img = Input(shape=(784,))\n",
        "\n",
        "# Encoding layers\n",
        "encoded = Dense(128, activation='relu')(input_img)\n",
        "encoded = Dense(64, activation='relu')(encoded)\n",
        "encoded = Dense(encoding_dim, activation='relu')(encoded)\n",
        "\n",
        "# Decoding layers\n",
        "decoded = Dense(64, activation='relu')(encoded)\n",
        "decoded = Dense(128, activation='relu')(decoded)\n",
        "decoded = Dense(784, activation='sigmoid')(decoded)\n",
        "\n",
        "# Autoencoder model\n",
        "autoencoder = Model(input_img, decoded)\n",
        "\n",
        "# Encoder model\n",
        "encoder = Model(input_img, encoded)\n",
        "\n",
        "# Decoder model\n",
        "encoded_input = Input(shape=(encoding_dim,))\n",
        "decoder_layer1 = autoencoder.layers[-3]\n",
        "decoder_layer2 = autoencoder.layers[-2]\n",
        "decoder_layer3 = autoencoder.layers[-1]\n",
        "decoder = Model(encoded_input, decoder_layer3(decoder_layer2(decoder_layer1(encoded_input))))\n"
      ]
    },
    {
      "cell_type": "code",
      "execution_count": 14,
      "metadata": {
        "colab": {
          "base_uri": "https://localhost:8080/"
        },
        "id": "pedaPEaRcAic",
        "outputId": "9b610db9-0e21-4d0b-8294-1d04ab935f99"
      },
      "outputs": [
        {
          "output_type": "stream",
          "name": "stdout",
          "text": [
            "Epoch 1/50\n",
            "235/235 [==============================] - 6s 18ms/step - loss: 0.0835 - val_loss: 0.0822\n",
            "Epoch 2/50\n",
            "235/235 [==============================] - 4s 17ms/step - loss: 0.0827 - val_loss: 0.0823\n",
            "Epoch 3/50\n",
            "235/235 [==============================] - 5s 21ms/step - loss: 0.0826 - val_loss: 0.0825\n",
            "Epoch 4/50\n",
            "235/235 [==============================] - 4s 17ms/step - loss: 0.0826 - val_loss: 0.0822\n",
            "Epoch 5/50\n",
            "235/235 [==============================] - 4s 17ms/step - loss: 0.0825 - val_loss: 0.0823\n",
            "Epoch 6/50\n",
            "235/235 [==============================] - 5s 21ms/step - loss: 0.0824 - val_loss: 0.0823\n",
            "Epoch 7/50\n",
            "235/235 [==============================] - 5s 21ms/step - loss: 0.0824 - val_loss: 0.0822\n",
            "Epoch 8/50\n",
            "235/235 [==============================] - 4s 17ms/step - loss: 0.0823 - val_loss: 0.0820\n",
            "Epoch 9/50\n",
            "235/235 [==============================] - 5s 20ms/step - loss: 0.0822 - val_loss: 0.0821\n",
            "Epoch 10/50\n",
            "235/235 [==============================] - 4s 17ms/step - loss: 0.0821 - val_loss: 0.0818\n",
            "Epoch 11/50\n",
            "235/235 [==============================] - 4s 16ms/step - loss: 0.0820 - val_loss: 0.0816\n",
            "Epoch 12/50\n",
            "235/235 [==============================] - 5s 20ms/step - loss: 0.0820 - val_loss: 0.0816\n",
            "Epoch 13/50\n",
            "235/235 [==============================] - 4s 16ms/step - loss: 0.0819 - val_loss: 0.0815\n",
            "Epoch 14/50\n",
            "235/235 [==============================] - 4s 16ms/step - loss: 0.0818 - val_loss: 0.0815\n",
            "Epoch 15/50\n",
            "235/235 [==============================] - 5s 20ms/step - loss: 0.0818 - val_loss: 0.0817\n",
            "Epoch 16/50\n",
            "235/235 [==============================] - 4s 16ms/step - loss: 0.0817 - val_loss: 0.0815\n",
            "Epoch 17/50\n",
            "235/235 [==============================] - 4s 17ms/step - loss: 0.0816 - val_loss: 0.0814\n",
            "Epoch 18/50\n",
            "235/235 [==============================] - 5s 22ms/step - loss: 0.0816 - val_loss: 0.0813\n",
            "Epoch 19/50\n",
            "235/235 [==============================] - 4s 18ms/step - loss: 0.0815 - val_loss: 0.0812\n",
            "Epoch 20/50\n",
            "235/235 [==============================] - 5s 21ms/step - loss: 0.0815 - val_loss: 0.0813\n",
            "Epoch 21/50\n",
            "235/235 [==============================] - 5s 21ms/step - loss: 0.0814 - val_loss: 0.0812\n",
            "Epoch 22/50\n",
            "235/235 [==============================] - 5s 20ms/step - loss: 0.0814 - val_loss: 0.0810\n",
            "Epoch 23/50\n",
            "235/235 [==============================] - 4s 19ms/step - loss: 0.0813 - val_loss: 0.0812\n",
            "Epoch 24/50\n",
            "235/235 [==============================] - 5s 21ms/step - loss: 0.0813 - val_loss: 0.0810\n",
            "Epoch 25/50\n",
            "235/235 [==============================] - 4s 16ms/step - loss: 0.0812 - val_loss: 0.0810\n",
            "Epoch 26/50\n",
            "235/235 [==============================] - 5s 19ms/step - loss: 0.0812 - val_loss: 0.0809\n",
            "Epoch 27/50\n",
            "235/235 [==============================] - 5s 20ms/step - loss: 0.0812 - val_loss: 0.0810\n",
            "Epoch 28/50\n",
            "235/235 [==============================] - 4s 18ms/step - loss: 0.0811 - val_loss: 0.0808\n",
            "Epoch 29/50\n",
            "235/235 [==============================] - 4s 18ms/step - loss: 0.0811 - val_loss: 0.0809\n",
            "Epoch 30/50\n",
            "235/235 [==============================] - 5s 19ms/step - loss: 0.0810 - val_loss: 0.0807\n",
            "Epoch 31/50\n",
            "235/235 [==============================] - 4s 18ms/step - loss: 0.0810 - val_loss: 0.0811\n",
            "Epoch 32/50\n",
            "235/235 [==============================] - 4s 19ms/step - loss: 0.0810 - val_loss: 0.0806\n",
            "Epoch 33/50\n",
            "235/235 [==============================] - 4s 17ms/step - loss: 0.0809 - val_loss: 0.0807\n",
            "Epoch 34/50\n",
            "235/235 [==============================] - 4s 18ms/step - loss: 0.0809 - val_loss: 0.0806\n",
            "Epoch 35/50\n",
            "235/235 [==============================] - 5s 20ms/step - loss: 0.0809 - val_loss: 0.0806\n",
            "Epoch 36/50\n",
            "235/235 [==============================] - 5s 19ms/step - loss: 0.0808 - val_loss: 0.0807\n",
            "Epoch 37/50\n",
            "235/235 [==============================] - 4s 17ms/step - loss: 0.0808 - val_loss: 0.0807\n",
            "Epoch 38/50\n",
            "235/235 [==============================] - 5s 20ms/step - loss: 0.0808 - val_loss: 0.0806\n",
            "Epoch 39/50\n",
            "235/235 [==============================] - 4s 18ms/step - loss: 0.0808 - val_loss: 0.0806\n",
            "Epoch 40/50\n",
            "235/235 [==============================] - 4s 16ms/step - loss: 0.0807 - val_loss: 0.0804\n",
            "Epoch 41/50\n",
            "235/235 [==============================] - 5s 20ms/step - loss: 0.0807 - val_loss: 0.0804\n",
            "Epoch 42/50\n",
            "235/235 [==============================] - 4s 19ms/step - loss: 0.0807 - val_loss: 0.0803\n",
            "Epoch 43/50\n",
            "235/235 [==============================] - 4s 17ms/step - loss: 0.0806 - val_loss: 0.0807\n",
            "Epoch 44/50\n",
            "235/235 [==============================] - 5s 23ms/step - loss: 0.0806 - val_loss: 0.0803\n",
            "Epoch 45/50\n",
            "235/235 [==============================] - 4s 17ms/step - loss: 0.0806 - val_loss: 0.0805\n",
            "Epoch 46/50\n",
            "235/235 [==============================] - 4s 18ms/step - loss: 0.0806 - val_loss: 0.0804\n",
            "Epoch 47/50\n",
            "235/235 [==============================] - 5s 20ms/step - loss: 0.0805 - val_loss: 0.0806\n",
            "Epoch 48/50\n",
            "235/235 [==============================] - 4s 17ms/step - loss: 0.0805 - val_loss: 0.0805\n",
            "Epoch 49/50\n",
            "235/235 [==============================] - 4s 15ms/step - loss: 0.0805 - val_loss: 0.0802\n",
            "Epoch 50/50\n",
            "235/235 [==============================] - 5s 22ms/step - loss: 0.0805 - val_loss: 0.0803\n"
          ]
        },
        {
          "output_type": "execute_result",
          "data": {
            "text/plain": [
              "<keras.src.callbacks.History at 0x7c535be29000>"
            ]
          },
          "metadata": {},
          "execution_count": 14
        }
      ],
      "source": [
        "# Compile the model\n",
        "autoencoder.compile(optimizer='adam', loss='binary_crossentropy')\n",
        "\n",
        "# Train the model\n",
        "autoencoder.fit(x_train, x_train,\n",
        "                epochs=50,\n",
        "                batch_size=256,\n",
        "                shuffle=True,\n",
        "                validation_data=(x_test, x_test))\n",
        "\n"
      ]
    },
    {
      "cell_type": "code",
      "execution_count": 15,
      "metadata": {
        "colab": {
          "base_uri": "https://localhost:8080/"
        },
        "id": "NKK5C_rlcNDl",
        "outputId": "20f0acfd-eb5e-4ed7-a34d-0cbf2f269769"
      },
      "outputs": [
        {
          "output_type": "stream",
          "name": "stdout",
          "text": [
            "313/313 [==============================] - 1s 2ms/step\n",
            "313/313 [==============================] - 1s 2ms/step\n"
          ]
        }
      ],
      "source": [
        "# encode and decode some digits\n",
        "# note that we take them from the *test* set\n",
        "encoded_imgs = encoder.predict(x_test)\n",
        "decoded_imgs = decoder.predict(encoded_imgs)"
      ]
    },
    {
      "cell_type": "code",
      "execution_count": 16,
      "metadata": {
        "colab": {
          "base_uri": "https://localhost:8080/",
          "height": 304
        },
        "id": "ZQA_n46BcI47",
        "outputId": "984db1a5-66f6-434d-e689-d91257414a2f"
      },
      "outputs": [
        {
          "output_type": "display_data",
          "data": {
            "text/plain": [
              "<Figure size 2000x400 with 20 Axes>"
            ],
            "image/png": "[encoded data removed]"
          },
          "metadata": {}
        }
      ],
      "source": [
        "# use Matplotlib (don't ask)\n",
        "import matplotlib.pyplot as plt\n",
        "\n",
        "n = 10  # how many digits we will display\n",
        "plt.figure(figsize=(20, 4))\n",
        "for i in range(n):\n",
        "    # display original\n",
        "    ax = plt.subplot(2, n, i + 1)\n",
        "    plt.imshow(x_test[i].reshape(28, 28))\n",
        "    plt.gray()\n",
        "    ax.get_xaxis().set_visible(False)\n",
        "    ax.get_yaxis().set_visible(False)\n",
        "\n",
        "    # display reconstruction\n",
        "    ax = plt.subplot(2, n, i + 1 + n)\n",
        "    plt.imshow(decoded_imgs[i].reshape(28, 28))\n",
        "    plt.gray()\n",
        "    ax.get_xaxis().set_visible(False)\n",
        "    ax.get_yaxis().set_visible(False)\n",
        "plt.show()"
      ]
    }
  ],
  "metadata": {
    "colab": {
      "provenance": [],
      "include_colab_link": true
    },
    "kernelspec": {
      "display_name": "Python 3",
      "name": "python3"
    }
  },
  "nbformat": 4,
  "nbformat_minor": 0
}